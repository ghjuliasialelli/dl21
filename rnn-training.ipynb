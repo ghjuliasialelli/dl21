{
 "cells": [
  {
   "cell_type": "code",
   "execution_count": 1,
   "id": "departmental-transsexual",
   "metadata": {
    "scrolled": false
   },
   "outputs": [],
   "source": [
    "import os\n",
    "import numpy as np\n",
    "import pandas as pd\n",
    "from tqdm import tqdm\n",
    "from utils.model_operations import *\n",
    "from utils.image_operations import *\n",
    "\n",
    "directory_path = os.getcwd()"
   ]
  },
  {
   "cell_type": "code",
   "execution_count": 2,
   "id": "established-taxation",
   "metadata": {
    "scrolled": false
   },
   "outputs": [],
   "source": [
    "def loadModelWeights(setName, percentage=1):\n",
    "    \"\"\"\n",
    "    setname: either \"train\" or \"test\"\n",
    "    \n",
    "    returns dataframe with the weights of all models by layers\n",
    "    \"\"\"\n",
    "    bias = ['0.02', '0.03', '0.04', '0.05']\n",
    "    df = pd.DataFrame()\n",
    "    modelId = 0\n",
    "    for b in bias:\n",
    "        if setName == \"train\":\n",
    "            model_data = ModelDataset(bias=b, data_directory=directory_path+'/data/DigitWdb/train')\n",
    "        elif setName == \"test\":\n",
    "            model_data = ModelDataset(bias=b, data_directory=directory_path+'/data/DigitWdb/test')\n",
    "        else:\n",
    "            raise \"set name must either be train or test\"\n",
    "            \n",
    "        for modelNumber in tqdm(range(len(model_data)//percentage), desc=\"loading model weights with bias \"+b):\n",
    "            model = model_data[modelNumber]\n",
    "            layerNumber = 0\n",
    "            for layer in model.layers:\n",
    "                if len(layer.get_weights()) != 0:\n",
    "                    # weights\n",
    "                    weights = layer.get_weights()[0]\n",
    "                    # biases\n",
    "                    biases = layer.get_weights()[1]\n",
    "\n",
    "                    df = df.append({'modelId':modelId,'weights':np.ravel(weights),'biases':np.ravel(biases),'layer':layerNumber, 'bias':b}, ignore_index=True)\n",
    "                    layerNumber = layerNumber + 1\n",
    "            modelId += 1       \n",
    "    return df\n"
   ]
  },
  {
   "cell_type": "code",
   "execution_count": 206,
   "id": "e437e4fb",
   "metadata": {},
   "outputs": [
    {
     "name": "stderr",
     "output_type": "stream",
     "text": [
      "loading model weights with bias 0.02: 100%|██████████| 2000/2000 [07:07<00:00,  4.68it/s]\n",
      "loading model weights with bias 0.03: 100%|██████████| 2000/2000 [06:30<00:00,  5.12it/s]\n",
      "loading model weights with bias 0.04: 100%|██████████| 2000/2000 [06:58<00:00,  4.77it/s]\n",
      "loading model weights with bias 0.05: 100%|██████████| 2000/2000 [07:38<00:00,  4.36it/s]\n",
      "loading model weights with bias 0.02: 100%|██████████| 500/500 [01:55<00:00,  4.34it/s]\n",
      "loading model weights with bias 0.03: 100%|██████████| 500/500 [02:14<00:00,  3.71it/s]\n",
      "loading model weights with bias 0.04: 100%|██████████| 500/500 [02:37<00:00,  3.17it/s]\n",
      "loading model weights with bias 0.05: 100%|██████████| 500/500 [03:12<00:00,  2.60it/s]\n"
     ]
    }
   ],
   "source": [
    "trainModelWeights = loadModelWeights(\"train\", percentage = 1)\n",
    "testModelWeights = loadModelWeights(\"test\",  percentage = 1)"
   ]
  },
  {
   "cell_type": "code",
   "execution_count": 207,
   "id": "66ef760d",
   "metadata": {},
   "outputs": [
    {
     "data": {
      "text/html": [
       "<div>\n",
       "<style scoped>\n",
       "    .dataframe tbody tr th:only-of-type {\n",
       "        vertical-align: middle;\n",
       "    }\n",
       "\n",
       "    .dataframe tbody tr th {\n",
       "        vertical-align: top;\n",
       "    }\n",
       "\n",
       "    .dataframe thead th {\n",
       "        text-align: right;\n",
       "    }\n",
       "</style>\n",
       "<table border=\"1\" class=\"dataframe\">\n",
       "  <thead>\n",
       "    <tr style=\"text-align: right;\">\n",
       "      <th></th>\n",
       "      <th>modelId</th>\n",
       "      <th>weights</th>\n",
       "      <th>biases</th>\n",
       "      <th>layer</th>\n",
       "      <th>bias</th>\n",
       "    </tr>\n",
       "  </thead>\n",
       "  <tbody>\n",
       "    <tr>\n",
       "      <th>0</th>\n",
       "      <td>0.0</td>\n",
       "      <td>[-0.018486138, -0.03354981, -0.16535422, -0.06...</td>\n",
       "      <td>[-0.24564764, -0.081536554, -0.01958792, -0.11...</td>\n",
       "      <td>0.0</td>\n",
       "      <td>0.02</td>\n",
       "    </tr>\n",
       "    <tr>\n",
       "      <th>1</th>\n",
       "      <td>0.0</td>\n",
       "      <td>[-0.26035, -0.031969644, 0.02034611, 0.0241116...</td>\n",
       "      <td>[-0.08751261, 0.14474091, -0.26124775, -0.2221...</td>\n",
       "      <td>1.0</td>\n",
       "      <td>0.02</td>\n",
       "    </tr>\n",
       "    <tr>\n",
       "      <th>2</th>\n",
       "      <td>0.0</td>\n",
       "      <td>[-0.045246184, -0.022445709, -0.17450637, -0.0...</td>\n",
       "      <td>[0.18726698, -0.055855844, 0.10226409, -0.1979...</td>\n",
       "      <td>2.0</td>\n",
       "      <td>0.02</td>\n",
       "    </tr>\n",
       "    <tr>\n",
       "      <th>3</th>\n",
       "      <td>0.0</td>\n",
       "      <td>[0.14023237, -0.0014608316, 0.17644557, 0.1682...</td>\n",
       "      <td>[-0.11819455, 0.109577455, -0.034734905, 0.126...</td>\n",
       "      <td>3.0</td>\n",
       "      <td>0.02</td>\n",
       "    </tr>\n",
       "    <tr>\n",
       "      <th>4</th>\n",
       "      <td>0.0</td>\n",
       "      <td>[-0.25628987, 0.017059373, -0.14892107, 0.1850...</td>\n",
       "      <td>[0.04371279, 0.1927553, -0.0704351, 0.02792670...</td>\n",
       "      <td>4.0</td>\n",
       "      <td>0.02</td>\n",
       "    </tr>\n",
       "    <tr>\n",
       "      <th>...</th>\n",
       "      <td>...</td>\n",
       "      <td>...</td>\n",
       "      <td>...</td>\n",
       "      <td>...</td>\n",
       "      <td>...</td>\n",
       "    </tr>\n",
       "    <tr>\n",
       "      <th>39995</th>\n",
       "      <td>7999.0</td>\n",
       "      <td>[-0.057432093, 0.012581817, 0.11414536, 0.0184...</td>\n",
       "      <td>[-0.0671344, -0.0277758, -0.0146967145, 0.0630...</td>\n",
       "      <td>0.0</td>\n",
       "      <td>0.05</td>\n",
       "    </tr>\n",
       "    <tr>\n",
       "      <th>39996</th>\n",
       "      <td>7999.0</td>\n",
       "      <td>[-0.107280254, -0.09203529, -0.07334799, -0.10...</td>\n",
       "      <td>[-0.03721022, 0.040936325, -0.030625928, 0.002...</td>\n",
       "      <td>1.0</td>\n",
       "      <td>0.05</td>\n",
       "    </tr>\n",
       "    <tr>\n",
       "      <th>39997</th>\n",
       "      <td>7999.0</td>\n",
       "      <td>[0.011979358, -0.034554373, -0.051180247, -0.0...</td>\n",
       "      <td>[0.010443132, -0.18427786, -0.066259846, -0.03...</td>\n",
       "      <td>2.0</td>\n",
       "      <td>0.05</td>\n",
       "    </tr>\n",
       "    <tr>\n",
       "      <th>39998</th>\n",
       "      <td>7999.0</td>\n",
       "      <td>[-2.1241395, 0.58485734, -2.2942114, 0.4497387...</td>\n",
       "      <td>[3.359927, 1.6769673, 2.8587103, 2.1773515, 2....</td>\n",
       "      <td>3.0</td>\n",
       "      <td>0.05</td>\n",
       "    </tr>\n",
       "    <tr>\n",
       "      <th>39999</th>\n",
       "      <td>7999.0</td>\n",
       "      <td>[-0.038149532, -0.024797479, 0.02632919, 0.175...</td>\n",
       "      <td>[-0.100846305, -0.051194046, 0.045621414, -0.0...</td>\n",
       "      <td>4.0</td>\n",
       "      <td>0.05</td>\n",
       "    </tr>\n",
       "  </tbody>\n",
       "</table>\n",
       "<p>40000 rows × 5 columns</p>\n",
       "</div>"
      ],
      "text/plain": [
       "       modelId                                            weights  \\\n",
       "0          0.0  [-0.018486138, -0.03354981, -0.16535422, -0.06...   \n",
       "1          0.0  [-0.26035, -0.031969644, 0.02034611, 0.0241116...   \n",
       "2          0.0  [-0.045246184, -0.022445709, -0.17450637, -0.0...   \n",
       "3          0.0  [0.14023237, -0.0014608316, 0.17644557, 0.1682...   \n",
       "4          0.0  [-0.25628987, 0.017059373, -0.14892107, 0.1850...   \n",
       "...        ...                                                ...   \n",
       "39995   7999.0  [-0.057432093, 0.012581817, 0.11414536, 0.0184...   \n",
       "39996   7999.0  [-0.107280254, -0.09203529, -0.07334799, -0.10...   \n",
       "39997   7999.0  [0.011979358, -0.034554373, -0.051180247, -0.0...   \n",
       "39998   7999.0  [-2.1241395, 0.58485734, -2.2942114, 0.4497387...   \n",
       "39999   7999.0  [-0.038149532, -0.024797479, 0.02632919, 0.175...   \n",
       "\n",
       "                                                  biases  layer  bias  \n",
       "0      [-0.24564764, -0.081536554, -0.01958792, -0.11...    0.0  0.02  \n",
       "1      [-0.08751261, 0.14474091, -0.26124775, -0.2221...    1.0  0.02  \n",
       "2      [0.18726698, -0.055855844, 0.10226409, -0.1979...    2.0  0.02  \n",
       "3      [-0.11819455, 0.109577455, -0.034734905, 0.126...    3.0  0.02  \n",
       "4      [0.04371279, 0.1927553, -0.0704351, 0.02792670...    4.0  0.02  \n",
       "...                                                  ...    ...   ...  \n",
       "39995  [-0.0671344, -0.0277758, -0.0146967145, 0.0630...    0.0  0.05  \n",
       "39996  [-0.03721022, 0.040936325, -0.030625928, 0.002...    1.0  0.05  \n",
       "39997  [0.010443132, -0.18427786, -0.066259846, -0.03...    2.0  0.05  \n",
       "39998  [3.359927, 1.6769673, 2.8587103, 2.1773515, 2....    3.0  0.05  \n",
       "39999  [-0.100846305, -0.051194046, 0.045621414, -0.0...    4.0  0.05  \n",
       "\n",
       "[40000 rows x 5 columns]"
      ]
     },
     "execution_count": 207,
     "metadata": {},
     "output_type": "execute_result"
    }
   ],
   "source": [
    "trainModelWeights"
   ]
  },
  {
   "cell_type": "code",
   "execution_count": 208,
   "id": "banner-house",
   "metadata": {},
   "outputs": [],
   "source": [
    "from sklearn.model_selection import train_test_split\n",
    "\n",
    "\n",
    "def train_test(trainModelWeights, testModelWeights = None, feature='weights', labels='one'):\n",
    "\n",
    "    train_dataset = []\n",
    "    train_labels = []\n",
    "    test_dataset = []\n",
    "    test_labels = []\n",
    "    \n",
    "    train_ids = list(range(0, int(trainModelWeights['modelId'].max() + 1)))\n",
    "    if testModelWeights is not None : \n",
    "        test_ids = list(range(0, int(testModelWeights['modelId'].max() + 1)))\n",
    "    else : \n",
    "        train_ids, test_ids = train_test_split(train_ids, test_size=0.2)\n",
    "    \n",
    "\n",
    "    for modelid in train_ids :\n",
    "\n",
    "        X_train = trainModelWeights[trainModelWeights['modelId'] == modelid][[feature]].values[:,0]\n",
    "        if labels == 'one' :\n",
    "            y_train = float(trainModelWeights[trainModelWeights['modelId'] == modelid][['bias']].values[:,0][0])\n",
    "        else : \n",
    "            y_train = [float(b) for b in trainModelWeights[trainModelWeights['modelId'] == modelid][['bias']].values[:,0]]\n",
    "\n",
    "        layers = []\n",
    "        for i, layer in enumerate(X_train) : \n",
    "            # TO DO : CNN feature reduction \n",
    "            layer = np.random.choice(layer, size=100, replace=False) \n",
    "            layers.append(layer)\n",
    "        train_dataset.append(layers)\n",
    "        train_labels.append(y_train)\n",
    "        \n",
    "\n",
    "    for modelid in test_ids : \n",
    "\n",
    "        if testModelWeights is not None : \n",
    "            X_test = testModelWeights[testModelWeights['modelId'] == modelid][[feature]].values[:,0]\n",
    "            if labels == 'one' :\n",
    "                y_test = float(testModelWeights[testModelWeights['modelId'] == modelid][['bias']].values[:,0][0])\n",
    "            else : \n",
    "                y_test = [float(b) for b in testModelWeights[testModelWeights['modelId'] == modelid][['bias']].values[:,0]]\n",
    "        else : \n",
    "            X_test = trainModelWeights[trainModelWeights['modelId'] == modelid][[feature]].values[:,0]\n",
    "            if labels == 'one' :\n",
    "                y_test = float(trainModelWeights[trainModelWeights['modelId'] == modelid][['bias']].values[:,0][0])\n",
    "            else : \n",
    "                y_test = [float(b) for b in trainModelWeights[trainModelWeights['modelId'] == modelid][['bias']].values[:,0]]\n",
    "        \n",
    "        layers = []\n",
    "        for i, layer in enumerate(X_test) : \n",
    "            # TO DO : CNN feature reduction \n",
    "            layer = np.random.choice(layer, size=100, replace=False) \n",
    "            layers.append(layer)\n",
    "        test_dataset.append(layers)\n",
    "        test_labels.append(y_test)\n",
    "\n",
    "\n",
    "    # most important : dataset\n",
    "    train_labels = np.array(train_labels)\n",
    "    # train_labels = train_labels.reshape((train_labels.shape[0], 1, 1))\n",
    "\n",
    "    test_labels = np.array(test_labels)\n",
    "    # test_labels = test_labels.reshape((test_labels.shape[0], 1, 1))\n",
    "    \n",
    "    return np.array(train_dataset), np.array(train_labels), train_ids, np.array(test_dataset),  np.array(test_labels), test_ids"
   ]
  },
  {
   "cell_type": "code",
   "execution_count": 209,
   "id": "178fa154",
   "metadata": {},
   "outputs": [],
   "source": [
    "X_train, y_train, train_ids, X_test, y_test, test_ids = train_test(trainModelWeights, feature='weights')"
   ]
  },
  {
   "cell_type": "code",
   "execution_count": 210,
   "id": "6ca9b0a8",
   "metadata": {},
   "outputs": [
    {
     "data": {
      "text/plain": [
       "((6400, 5, 100), (6400,), (1600, 5, 100), (1600,))"
      ]
     },
     "execution_count": 210,
     "metadata": {},
     "output_type": "execute_result"
    }
   ],
   "source": [
    "X_train.shape, y_train.shape, X_test.shape, y_test.shape"
   ]
  },
  {
   "cell_type": "code",
   "execution_count": 211,
   "id": "6d9506d1",
   "metadata": {},
   "outputs": [],
   "source": [
    "# very basic iterator\n",
    "\n",
    "def batcher(X_dataset, y_dataset, batch_size=8):\n",
    "\n",
    "    num_rows = X_dataset.shape[0]\n",
    "\n",
    "    start = 0\n",
    "    end = batch_size\n",
    "    while end <= num_rows : \n",
    "        batch = torch.Tensor(X_dataset[start:end, :, :])\n",
    "        labels = torch.Tensor(y_dataset[start:end])\n",
    "        yield (batch, labels)\n",
    "        start = end\n",
    "        end += batch_size"
   ]
  },
  {
   "cell_type": "code",
   "execution_count": 212,
   "id": "fffb50ba",
   "metadata": {},
   "outputs": [],
   "source": [
    "# other resources to continue : \n",
    "# https://stackoverflow.com/questions/58251677/how-do-i-train-an-lstm-in-pytorch\n",
    "\n",
    "class Model(nn.Module):\n",
    "    # source : https://pytorch.org/docs/stable/generated/torch.nn.LSTM.html#torch.nn.LSTM \n",
    "    # * = to be experimented with\n",
    "    \n",
    "    def __init__(self):\n",
    "        super(Model, self).__init__()\n",
    "        \n",
    "        # input_size – The number of expected features in the input x\n",
    "        # hidden_size – The number of features in the hidden state h\n",
    "        # num_layers – Number of recurrent layers\n",
    "        # batch_first – If True, then the input and output tensors are provided as (batch, seq, feature)\n",
    "        # bidirectional – If True, becomes a bidirectional LSTM, let's not get too complicated at first\n",
    "        self.lstm = nn.LSTM(input_size = 100, hidden_size = 10, num_layers = 1, batch_first = True, bidirectional = False)\n",
    "        self.dense = nn.Linear(10, 1)\n",
    "\n",
    "    def forward(self, x):\n",
    "        # input : (N, L, H_in) \n",
    "        # where N = batch size\n",
    "        #       L = sequence length\n",
    "        #       H_in = input size\n",
    "        # -> (batch_size, 5, num_features)\n",
    "        \n",
    "        x, (hidden, cell) = self.lstm(x)\n",
    "        # hidden : final hidden state for each element in the batch, shape (1, 8, 10) -> reshape into (8,1,10)\n",
    "        hidden = torch.reshape(hidden, shape = (hidden.size()[1], hidden.size()[0], hidden.size()[2])) #?\n",
    "        \n",
    "        # x = self.dense(x)\n",
    "        x = self.dense(hidden)\n",
    "        \n",
    "        return torch.reshape(x, shape = (x.size()[0],))\n",
    "\n",
    "\n",
    "# input size : (batch_size, 5, num_features) - for the 5 layers, and the features extracted\n",
    "# output size : (batch_size, 1, 1) - for the prediction per model\n",
    "\n",
    "\n",
    "model = Model()\n",
    "# y = model(list(batcher(X_train, y_train))[0][0])"
   ]
  },
  {
   "cell_type": "code",
   "execution_count": 213,
   "id": "c218e0fb",
   "metadata": {},
   "outputs": [
    {
     "name": "stderr",
     "output_type": "stream",
     "text": [
      "100%|██████████| 50/50 [03:31<00:00,  4.23s/it]\n"
     ]
    }
   ],
   "source": [
    "from torch import optim\n",
    "from torch.nn import L1Loss, MSELoss\n",
    "\n",
    "criterion = MSELoss(reduction='mean')\n",
    "criterion2 = L1Loss(reduction='mean')\n",
    "optimizer = optim.RMSprop(model.parameters()) \n",
    "\n",
    "# requires_grad=True\n",
    "\n",
    "\n",
    "acc_loss = []\n",
    "acc_mae = []\n",
    "for epoch in tqdm(range(50)):\n",
    "    epoch_acc_loss = 0.\n",
    "    epoch_acc_mae = 0.   \n",
    "\n",
    "    # define dataset to be loadable by batches\n",
    "    for data in batcher(X_train, y_train, batch_size=8) :\n",
    "        inputs, labels = data\n",
    "        optimizer.zero_grad()\n",
    "        outputs = model(inputs)\n",
    "        \n",
    "        loss = criterion(outputs, labels)\n",
    "        loss.backward() \n",
    "        optimizer.step()\n",
    "        \n",
    "        epoch_acc_loss += loss.item()\n",
    "        mae = criterion2(outputs, labels)\n",
    "        epoch_acc_mae += mae.item()\n",
    "    \n",
    "    acc_loss.append(epoch_acc_loss)\n",
    "    acc_mae.append(epoch_acc_mae)"
   ]
  },
  {
   "cell_type": "code",
   "execution_count": 214,
   "id": "739eb124",
   "metadata": {},
   "outputs": [
    {
     "data": {
      "image/png": "[encoded data removed]",
      "text/plain": [
       "<Figure size 432x288 with 1 Axes>"
      ]
     },
     "metadata": {
      "needs_background": "light"
     },
     "output_type": "display_data"
    },
    {
     "data": {
      "image/png": "[encoded data removed]",
      "text/plain": [
       "<Figure size 432x288 with 1 Axes>"
      ]
     },
     "metadata": {
      "needs_background": "light"
     },
     "output_type": "display_data"
    }
   ],
   "source": [
    "import matplotlib.pyplot as plt\n",
    "\n",
    "plt.plot(list(range(len(acc_loss))), acc_loss)\n",
    "plt.show()\n",
    "\n",
    "plt.plot(list(range(len(acc_mae))), acc_mae)\n",
    "plt.show()"
   ]
  },
  {
   "cell_type": "code",
   "execution_count": 215,
   "id": "f9811761",
   "metadata": {},
   "outputs": [
    {
     "data": {
      "text/plain": [
       "tensor(0.0003, grad_fn=<MseLossBackward0>)"
      ]
     },
     "execution_count": 215,
     "metadata": {},
     "output_type": "execute_result"
    }
   ],
   "source": [
    "# test accuracy : \n",
    "\n",
    "for data in batcher(X_test, y_test, batch_size=y_test.shape[0]):\n",
    "    inputs, labels = data\n",
    "    outputs = model(inputs)\n",
    "    loss = criterion(outputs, labels)\n",
    "\n",
    "loss"
   ]
  }
 ],
 "metadata": {
  "kernelspec": {
   "display_name": "Python 3",
   "language": "python",
   "name": "python3"
  },
  "language_info": {
   "codemirror_mode": {
    "name": "ipython",
    "version": 3
   },
   "file_extension": ".py",
   "mimetype": "text/x-python",
   "name": "python",
   "nbconvert_exporter": "python",
   "pygments_lexer": "ipython3",
   "version": "3.8.12"
  }
 },
 "nbformat": 4,
 "nbformat_minor": 5
}
