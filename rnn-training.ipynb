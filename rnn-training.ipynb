{
 "cells": [
  {
   "cell_type": "code",
   "execution_count": 169,
   "id": "departmental-transsexual",
   "metadata": {
    "scrolled": false
   },
   "outputs": [],
   "source": [
    "import os\n",
    "import numpy as np\n",
    "import pandas as pd\n",
    "from tqdm import tqdm\n",
    "from utils.model_operations import *\n",
    "from utils.image_operations import *\n",
    "\n",
    "directory_path = os.getcwd()"
   ]
  },
  {
   "cell_type": "code",
   "execution_count": 170,
   "id": "established-taxation",
   "metadata": {
    "scrolled": false
   },
   "outputs": [],
   "source": [
    "def loadModelWeights(setName, percentage=1):\n",
    "    \"\"\"\n",
    "    setname: either \"train\" or \"test\"\n",
    "    \n",
    "    returns dataframe with the weights of all models by layers\n",
    "    \"\"\"\n",
    "    bias = ['0.02', '0.03', '0.04', '0.05']\n",
    "    df = pd.DataFrame()\n",
    "    modelId = 0\n",
    "    for b in bias:\n",
    "        if setName == \"train\":\n",
    "            model_data = ModelDataset(bias=b, data_directory=directory_path+'/data/DigitWdb/train')\n",
    "        elif setName == \"test\":\n",
    "            model_data = ModelDataset(bias=b, data_directory=directory_path+'/data/DigitWdb/test')\n",
    "        else:\n",
    "            raise \"set name must either be train or test\"\n",
    "            \n",
    "        for modelNumber in tqdm(range(len(model_data)//percentage), desc=\"loading model weights with bias \"+b):\n",
    "            model = model_data[modelNumber]\n",
    "            layerNumber = 0\n",
    "            for layer in model.layers:\n",
    "                if len(layer.get_weights()) != 0:\n",
    "                    # weights\n",
    "                    weights = layer.get_weights()[0]\n",
    "                    # biases\n",
    "                    biases = layer.get_weights()[1]\n",
    "\n",
    "                    df = df.append({'modelId':modelId,'weights':np.ravel(weights),'biases':np.ravel(biases),'layer':layerNumber, 'bias':b}, ignore_index=True)\n",
    "                    layerNumber = layerNumber + 1\n",
    "            modelId += 1       \n",
    "    return df\n"
   ]
  },
  {
   "cell_type": "code",
   "execution_count": 3,
   "id": "e437e4fb",
   "metadata": {},
   "outputs": [
    {
     "name": "stderr",
     "output_type": "stream",
     "text": [
      "loading model weights with bias 0.02:   0%|          | 0/20 [00:00<?, ?it/s]2021-12-19 12:35:54.194795: I tensorflow/core/platform/cpu_feature_guard.cc:151] This TensorFlow binary is optimized with oneAPI Deep Neural Network Library (oneDNN) to use the following CPU instructions in performance-critical operations:  AVX2 FMA\n",
      "To enable them in other operations, rebuild TensorFlow with the appropriate compiler flags.\n",
      "loading model weights with bias 0.02: 100%|██████████| 20/20 [00:05<00:00,  3.74it/s]\n",
      "loading model weights with bias 0.03: 100%|██████████| 20/20 [00:04<00:00,  4.79it/s]\n",
      "loading model weights with bias 0.04: 100%|██████████| 20/20 [00:03<00:00,  6.34it/s]\n",
      "loading model weights with bias 0.05: 100%|██████████| 20/20 [00:03<00:00,  5.24it/s]\n",
      "loading model weights with bias 0.02: 100%|██████████| 5/5 [00:00<00:00,  5.69it/s]\n",
      "loading model weights with bias 0.03: 100%|██████████| 5/5 [00:00<00:00,  7.46it/s]\n",
      "loading model weights with bias 0.04: 100%|██████████| 5/5 [00:00<00:00,  6.18it/s]\n",
      "loading model weights with bias 0.05: 100%|██████████| 5/5 [00:00<00:00,  7.76it/s]\n"
     ]
    }
   ],
   "source": [
    "trainModelWeights = loadModelWeights(\"train\", percentage = 100)\n",
    "testModelWeights = loadModelWeights(\"test\",  percentage = 100)"
   ]
  },
  {
   "cell_type": "code",
   "execution_count": 4,
   "id": "66ef760d",
   "metadata": {},
   "outputs": [
    {
     "data": {
      "text/html": [
       "<div>\n",
       "<style scoped>\n",
       "    .dataframe tbody tr th:only-of-type {\n",
       "        vertical-align: middle;\n",
       "    }\n",
       "\n",
       "    .dataframe tbody tr th {\n",
       "        vertical-align: top;\n",
       "    }\n",
       "\n",
       "    .dataframe thead th {\n",
       "        text-align: right;\n",
       "    }\n",
       "</style>\n",
       "<table border=\"1\" class=\"dataframe\">\n",
       "  <thead>\n",
       "    <tr style=\"text-align: right;\">\n",
       "      <th></th>\n",
       "      <th>modelId</th>\n",
       "      <th>weights</th>\n",
       "      <th>biases</th>\n",
       "      <th>layer</th>\n",
       "      <th>bias</th>\n",
       "    </tr>\n",
       "  </thead>\n",
       "  <tbody>\n",
       "    <tr>\n",
       "      <th>0</th>\n",
       "      <td>0.0</td>\n",
       "      <td>[-0.018486138, -0.03354981, -0.16535422, -0.06...</td>\n",
       "      <td>[-0.24564764, -0.081536554, -0.01958792, -0.11...</td>\n",
       "      <td>0.0</td>\n",
       "      <td>0.02</td>\n",
       "    </tr>\n",
       "    <tr>\n",
       "      <th>1</th>\n",
       "      <td>0.0</td>\n",
       "      <td>[-0.26035, -0.031969644, 0.02034611, 0.0241116...</td>\n",
       "      <td>[-0.08751261, 0.14474091, -0.26124775, -0.2221...</td>\n",
       "      <td>1.0</td>\n",
       "      <td>0.02</td>\n",
       "    </tr>\n",
       "    <tr>\n",
       "      <th>2</th>\n",
       "      <td>0.0</td>\n",
       "      <td>[-0.045246184, -0.022445709, -0.17450637, -0.0...</td>\n",
       "      <td>[0.18726698, -0.055855844, 0.10226409, -0.1979...</td>\n",
       "      <td>2.0</td>\n",
       "      <td>0.02</td>\n",
       "    </tr>\n",
       "    <tr>\n",
       "      <th>3</th>\n",
       "      <td>0.0</td>\n",
       "      <td>[0.14023237, -0.0014608316, 0.17644557, 0.1682...</td>\n",
       "      <td>[-0.11819455, 0.109577455, -0.034734905, 0.126...</td>\n",
       "      <td>3.0</td>\n",
       "      <td>0.02</td>\n",
       "    </tr>\n",
       "    <tr>\n",
       "      <th>4</th>\n",
       "      <td>0.0</td>\n",
       "      <td>[-0.25628987, 0.017059373, -0.14892107, 0.1850...</td>\n",
       "      <td>[0.04371279, 0.1927553, -0.0704351, 0.02792670...</td>\n",
       "      <td>4.0</td>\n",
       "      <td>0.02</td>\n",
       "    </tr>\n",
       "    <tr>\n",
       "      <th>...</th>\n",
       "      <td>...</td>\n",
       "      <td>...</td>\n",
       "      <td>...</td>\n",
       "      <td>...</td>\n",
       "      <td>...</td>\n",
       "    </tr>\n",
       "    <tr>\n",
       "      <th>395</th>\n",
       "      <td>79.0</td>\n",
       "      <td>[0.037538417, -0.084343694, 0.00429407, -0.043...</td>\n",
       "      <td>[-0.011763463, -0.008365027, -0.14752248, -0.1...</td>\n",
       "      <td>0.0</td>\n",
       "      <td>0.05</td>\n",
       "    </tr>\n",
       "    <tr>\n",
       "      <th>396</th>\n",
       "      <td>79.0</td>\n",
       "      <td>[0.20852585, -0.23954894, -0.0094635775, -0.06...</td>\n",
       "      <td>[0.06761229, -0.007432909, 0.024540491, -0.137...</td>\n",
       "      <td>1.0</td>\n",
       "      <td>0.05</td>\n",
       "    </tr>\n",
       "    <tr>\n",
       "      <th>397</th>\n",
       "      <td>79.0</td>\n",
       "      <td>[0.2562213, 0.039079823, 0.041972984, 0.120924...</td>\n",
       "      <td>[-0.18877326, -0.028655905, -0.026531724, 8.70...</td>\n",
       "      <td>2.0</td>\n",
       "      <td>0.05</td>\n",
       "    </tr>\n",
       "    <tr>\n",
       "      <th>398</th>\n",
       "      <td>79.0</td>\n",
       "      <td>[-0.042518232, 0.16675776, 0.5135789, -0.35607...</td>\n",
       "      <td>[-0.12601914, 0.22279127, 0.93562245, 0.575864...</td>\n",
       "      <td>3.0</td>\n",
       "      <td>0.05</td>\n",
       "    </tr>\n",
       "    <tr>\n",
       "      <th>399</th>\n",
       "      <td>79.0</td>\n",
       "      <td>[0.026178522, 0.14872243, 0.12535143, -0.00353...</td>\n",
       "      <td>[-0.02915595, 0.12834957, 0.07938649, 0.122114...</td>\n",
       "      <td>4.0</td>\n",
       "      <td>0.05</td>\n",
       "    </tr>\n",
       "  </tbody>\n",
       "</table>\n",
       "<p>400 rows × 5 columns</p>\n",
       "</div>"
      ],
      "text/plain": [
       "     modelId                                            weights  \\\n",
       "0        0.0  [-0.018486138, -0.03354981, -0.16535422, -0.06...   \n",
       "1        0.0  [-0.26035, -0.031969644, 0.02034611, 0.0241116...   \n",
       "2        0.0  [-0.045246184, -0.022445709, -0.17450637, -0.0...   \n",
       "3        0.0  [0.14023237, -0.0014608316, 0.17644557, 0.1682...   \n",
       "4        0.0  [-0.25628987, 0.017059373, -0.14892107, 0.1850...   \n",
       "..       ...                                                ...   \n",
       "395     79.0  [0.037538417, -0.084343694, 0.00429407, -0.043...   \n",
       "396     79.0  [0.20852585, -0.23954894, -0.0094635775, -0.06...   \n",
       "397     79.0  [0.2562213, 0.039079823, 0.041972984, 0.120924...   \n",
       "398     79.0  [-0.042518232, 0.16675776, 0.5135789, -0.35607...   \n",
       "399     79.0  [0.026178522, 0.14872243, 0.12535143, -0.00353...   \n",
       "\n",
       "                                                biases  layer  bias  \n",
       "0    [-0.24564764, -0.081536554, -0.01958792, -0.11...    0.0  0.02  \n",
       "1    [-0.08751261, 0.14474091, -0.26124775, -0.2221...    1.0  0.02  \n",
       "2    [0.18726698, -0.055855844, 0.10226409, -0.1979...    2.0  0.02  \n",
       "3    [-0.11819455, 0.109577455, -0.034734905, 0.126...    3.0  0.02  \n",
       "4    [0.04371279, 0.1927553, -0.0704351, 0.02792670...    4.0  0.02  \n",
       "..                                                 ...    ...   ...  \n",
       "395  [-0.011763463, -0.008365027, -0.14752248, -0.1...    0.0  0.05  \n",
       "396  [0.06761229, -0.007432909, 0.024540491, -0.137...    1.0  0.05  \n",
       "397  [-0.18877326, -0.028655905, -0.026531724, 8.70...    2.0  0.05  \n",
       "398  [-0.12601914, 0.22279127, 0.93562245, 0.575864...    3.0  0.05  \n",
       "399  [-0.02915595, 0.12834957, 0.07938649, 0.122114...    4.0  0.05  \n",
       "\n",
       "[400 rows x 5 columns]"
      ]
     },
     "execution_count": 4,
     "metadata": {},
     "output_type": "execute_result"
    }
   ],
   "source": [
    "trainModelWeights"
   ]
  },
  {
   "cell_type": "code",
   "execution_count": 172,
   "id": "c6416b39",
   "metadata": {},
   "outputs": [],
   "source": [
    "def dataset_iterator(ids, ModelWeights, feature, label):\n",
    "\n",
    "    dataset = []\n",
    "    labels = []\n",
    "\n",
    "    for modelid in ids : \n",
    "\n",
    "        X = ModelWeights[ModelWeights['modelId'] == modelid][[feature]].values[:,0]\n",
    "        if label == 'one' :\n",
    "            y = float(ModelWeights[ModelWeights['modelId'] == modelid][['bias']].values[:,0][0])\n",
    "        else : \n",
    "            y = [float(b) for b in ModelWeights[ModelWeights['modelId'] == modelid][['bias']].values[:,0]]\n",
    "\n",
    "        layers = []\n",
    "        for i, layer in enumerate(X) : \n",
    "            layer = np.pad(layer, pad_width=(0, 27648 - len(layer)))    # padding for Conv1d layer\n",
    "            layers.append(layer)\n",
    "        \n",
    "        dataset.append(layers)\n",
    "        labels.append(y)\n",
    "    \n",
    "    return dataset, labels\n",
    "        "
   ]
  },
  {
   "cell_type": "code",
   "execution_count": 173,
   "id": "banner-house",
   "metadata": {},
   "outputs": [],
   "source": [
    "from sklearn.model_selection import train_test_split\n",
    "\n",
    "def train_test(trainModelWeights, testModelWeights, feature='weights', label='one'):\n",
    "    \n",
    "    train_ids = list(range(0, int(trainModelWeights['modelId'].max() + 1)))\n",
    "    test_ids = list(range(0, int(testModelWeights['modelId'].max() + 1)))\n",
    "    train_ids, val_ids = train_test_split(train_ids, test_size = 0.2)\n",
    "    \n",
    "\n",
    "    train_dataset, train_labels = dataset_iterator(train_ids, trainModelWeights, feature, label)\n",
    "    val_dataset, val_labels = dataset_iterator(val_ids, trainModelWeights, feature, label)\n",
    "    test_dataset, test_labels = dataset_iterator(test_ids, testModelWeights, feature, label)\n",
    "    \n",
    "    return np.array(train_dataset), np.array(train_labels), train_ids, \\\n",
    "        np.array(val_dataset), np.array(val_labels), val_ids, \\\n",
    "        np.array(test_dataset),  np.array(test_labels), test_ids"
   ]
  },
  {
   "cell_type": "code",
   "execution_count": null,
   "id": "25ac4054",
   "metadata": {},
   "outputs": [],
   "source": [
    "# before feature extraction, shape of each layer : \n",
    "# 1 : 1800\n",
    "# 2 : 10368 \n",
    "# 3 : 27648\n",
    "# 4 : 8192\n",
    "# 5 : 1280"
   ]
  },
  {
   "cell_type": "code",
   "execution_count": 175,
   "id": "178fa154",
   "metadata": {},
   "outputs": [],
   "source": [
    "X_train, y_train, train_ids, X_val, y_val, val_ids, X_test, y_test, test_ids = train_test(trainModelWeights, testModelWeights, feature='weights')"
   ]
  },
  {
   "cell_type": "code",
   "execution_count": 132,
   "id": "2c2440a4",
   "metadata": {},
   "outputs": [
    {
     "data": {
      "text/plain": [
       "\"\\n# test : \\nfrom torch.nn.utils.rnn import pack_padded_sequence\\n\\n# Could do that, but by considering that the batch size is the number of time-steps \\n# but then i'm not sure that works with the LSTM layer ?\\n\\n# torch.nn.utils.rnn.pack_padded_sequence(input, lengths, batch_first=False, enforce_sorted=True)\\n\\n# input can be of size T x B x * where T is the length of the longest sequence (equal to lengths[0]), \\n# B is the batch size, and * is any number of dimensions (including 0). If batch_first is True, \\n# B x T x * input is expected.\\n\\nlengths = []\\npadded = []\\n\\nfor test in all_test : \\n\\n    test_lengths = [len(layer) for layer in test]\\n    test_max_len = max(test_lengths)\\n    test_padded = [np.pad(layer, (0,test_max_len - len(layer))) for layer in test]\\n\\n    lengths.append(test_lengths)\\n    padded.append(test_padded)\\n\\npadded = torch.Tensor(padded)\\n# input = torch.reshape(padded, (padded.size()[0], padded.size()[2], padded.size()[1]))\\nprint(padded.size())\\nprint(padded[0,:,:].size())\\nprint(torch.Tensor(lengths)[0,:].size())\\npack_padded_sequence(input = padded[0,:,:], lengths = torch.Tensor(lengths)[0,:], batch_first = True, enforce_sorted = False)\\n\\n\""
      ]
     },
     "execution_count": 132,
     "metadata": {},
     "output_type": "execute_result"
    }
   ],
   "source": [
    "\"\"\"\n",
    "# test : \n",
    "from torch.nn.utils.rnn import pack_padded_sequence\n",
    "\n",
    "# Could do that, but by considering that the batch size is the number of time-steps \n",
    "# but then i'm not sure that works with the LSTM layer ?\n",
    "\n",
    "# torch.nn.utils.rnn.pack_padded_sequence(input, lengths, batch_first=False, enforce_sorted=True)\n",
    "\n",
    "# input can be of size T x B x * where T is the length of the longest sequence (equal to lengths[0]), \n",
    "# B is the batch size, and * is any number of dimensions (including 0). If batch_first is True, \n",
    "# B x T x * input is expected.\n",
    "\n",
    "lengths = []\n",
    "padded = []\n",
    "\n",
    "for test in all_test : \n",
    "\n",
    "    test_lengths = [len(layer) for layer in test]\n",
    "    test_max_len = max(test_lengths)\n",
    "    test_padded = [np.pad(layer, (0,test_max_len - len(layer))) for layer in test]\n",
    "\n",
    "    lengths.append(test_lengths)\n",
    "    padded.append(test_padded)\n",
    "\n",
    "padded = torch.Tensor(padded)\n",
    "# input = torch.reshape(padded, (padded.size()[0], padded.size()[2], padded.size()[1]))\n",
    "print(padded.size())\n",
    "print(padded[0,:,:].size())\n",
    "print(torch.Tensor(lengths)[0,:].size())\n",
    "pack_padded_sequence(input = padded[0,:,:], lengths = torch.Tensor(lengths)[0,:], batch_first = True, enforce_sorted = False)\n",
    "\n",
    "\"\"\""
   ]
  },
  {
   "cell_type": "code",
   "execution_count": 177,
   "id": "6ca9b0a8",
   "metadata": {},
   "outputs": [
    {
     "data": {
      "text/plain": [
       "((64, 5, 27648), (64,), (16, 5, 27648), (16,), (20, 5, 27648), (20,))"
      ]
     },
     "execution_count": 177,
     "metadata": {},
     "output_type": "execute_result"
    }
   ],
   "source": [
    "X_train.shape, y_train.shape, X_val.shape, y_val.shape, X_test.shape, y_test.shape"
   ]
  },
  {
   "cell_type": "code",
   "execution_count": 153,
   "id": "6d9506d1",
   "metadata": {},
   "outputs": [],
   "source": [
    "# very basic iterator\n",
    "\n",
    "# TO DO : make it shuffable by storing in a list (start, end) indices and sampling from the list randomly without replacement\n",
    "\n",
    "def batcher(X_dataset, y_dataset, batch_size=8):\n",
    "\n",
    "    num_rows = X_dataset.shape[0]\n",
    "\n",
    "    start = 0\n",
    "    end = batch_size\n",
    "    while end <= num_rows : \n",
    "        batch = torch.Tensor(X_dataset[start:end, :, :])\n",
    "        labels = torch.Tensor(y_dataset[start:end])\n",
    "        yield (batch, labels)\n",
    "        start = end\n",
    "        end += batch_size"
   ]
  },
  {
   "cell_type": "code",
   "execution_count": 154,
   "id": "fffb50ba",
   "metadata": {},
   "outputs": [],
   "source": [
    "# other resources to continue : \n",
    "# https://stackoverflow.com/questions/58251677/how-do-i-train-an-lstm-in-pytorch\n",
    "\n",
    "class Model(nn.Module):\n",
    "    # source : https://pytorch.org/docs/stable/generated/torch.nn.LSTM.html#torch.nn.LSTM \n",
    "    # * = to be experimented with\n",
    "    \n",
    "    def __init__(self):\n",
    "        super(Model, self).__init__()\n",
    "        \n",
    "        # input_size – The number of expected features in the input x\n",
    "        # hidden_size – The number of features in the hidden state h\n",
    "        # num_layers – Number of recurrent layers\n",
    "        # batch_first – If True, then the input and output tensors are provided as (batch, seq, feature)\n",
    "        # bidirectional – If True, becomes a bidirectional LSTM, let's not get too complicated at first\n",
    "        self.conv = nn.Conv1d(27648, 100, 1)\n",
    "        self.lstm = nn.LSTM(input_size = 100, hidden_size = 10, num_layers = 1, batch_first = True, bidirectional = False)\n",
    "        self.dense = nn.Linear(10, 1)\n",
    "\n",
    "    def forward(self, x):\n",
    "        # input : (N, L, H_in) \n",
    "        # where N = batch size\n",
    "        #       L = sequence length\n",
    "        #       H_in = input size\n",
    "        # -> (batch_size, 5, num_features)\n",
    "        \n",
    "        # some conv1 layer to reduce the number of features\n",
    "\n",
    "        x = torch.reshape(x, (x.size()[0], x.size()[2], x.size()[1]))\n",
    "        x = self.conv(x)\n",
    "        x = torch.reshape(x, (x.size()[0], x.size()[2], x.size()[1]))\n",
    "\n",
    "        x, (hidden, cell) = self.lstm(x)\n",
    "\n",
    "        # hidden : final hidden state for each element in the batch, shape (1, 8, 10) -> reshape into (8,1,10)\n",
    "        hidden = torch.reshape(hidden, shape = (hidden.size()[1], hidden.size()[0], hidden.size()[2]))\n",
    "        \n",
    "        x = self.dense(hidden)\n",
    "        \n",
    "        return torch.reshape(x, shape = (x.size()[0],))\n",
    "\n",
    "\n",
    "# input size : (batch_size, 5, num_features) - for the 5 layers, and the features extracted\n",
    "# output size : (batch_size, 1, 1) - for the prediction per model\n",
    "\n",
    "\n",
    "model = Model()\n",
    "# y = model(list(batcher(X_train, y_train))[0][0])"
   ]
  },
  {
   "cell_type": "code",
   "execution_count": 178,
   "id": "441fc7df",
   "metadata": {},
   "outputs": [],
   "source": [
    "categories = {0.2 : 0, 0.3 : 1, 0.4 : 2, 0.5 : 3}\n",
    "\n",
    "def make_categorical(values):\n",
    "    biases = torch.Tensor([0.2, 0.3, 0.4, 0.5])\n",
    "    res = []\n",
    "    for val in values : \n",
    "        idx = torch.argmin(torch.abs(biases - val))\n",
    "        new_val = round(biases[idx].item(), 1)\n",
    "        cat = categories[new_val]\n",
    "        res.append(cat)\n",
    "    return res"
   ]
  },
  {
   "cell_type": "code",
   "execution_count": 179,
   "id": "c218e0fb",
   "metadata": {},
   "outputs": [
    {
     "name": "stderr",
     "output_type": "stream",
     "text": [
      "100%|██████████| 30/30 [00:33<00:00,  1.10s/it]\n"
     ]
    }
   ],
   "source": [
    "from torch import optim\n",
    "from torch.nn import MSELoss\n",
    "from sklearn.metrics import accuracy_score\n",
    "\n",
    "criterion = MSELoss(reduction='mean')\n",
    "optimizer = optim.RMSprop(model.parameters()) \n",
    "\n",
    "\n",
    "BATCH_SIZE = 8\n",
    "NUM_EPOCHS = 30\n",
    "\n",
    "\n",
    "losses = []\n",
    "accuracy = []\n",
    "\n",
    "val_losses = []\n",
    "val_accuracy = []\n",
    "\n",
    "for epoch in tqdm(range(NUM_EPOCHS)):\n",
    "    epoch_loss = 0.\n",
    "    epoch_accuracies = []\n",
    "\n",
    "    epoch_val_loss = 0.\n",
    "    epoch_val_accuracies = []\n",
    "\n",
    "    for data in batcher(X_train, y_train, batch_size = BATCH_SIZE) :\n",
    "        \n",
    "        # pass through model\n",
    "        inputs, labels = data\n",
    "        optimizer.zero_grad()\n",
    "        outputs = model(inputs)\n",
    "        \n",
    "        # backprop\n",
    "        loss = criterion(outputs, labels)\n",
    "        loss.backward() \n",
    "        optimizer.step()\n",
    "        epoch_loss += loss.item()\n",
    "\n",
    "        # get training accuracy\n",
    "        cat_preds = make_categorical(outputs)\n",
    "        cat_labels = make_categorical(labels)\n",
    "        epoch_accuracies.append(accuracy_score(cat_labels, cat_preds))\n",
    "    losses.append(epoch_loss)\n",
    "    accuracy.append(np.mean(epoch_accuracies))\n",
    "\n",
    "\n",
    "    # Validation accuracies and losses\n",
    "    for data in batcher(X_val, y_val, batch_size=y_val.shape[0]) :\n",
    "        inputs, labels = data\n",
    "        outputs = model(inputs)\n",
    "\n",
    "        # test loss\n",
    "        loss = criterion(outputs, labels)\n",
    "        epoch_val_loss += loss.item()\n",
    "\n",
    "        # test accuracy\n",
    "        cat_preds = make_categorical(outputs)\n",
    "        cat_labels = make_categorical(labels)\n",
    "        epoch_val_accuracies.append(accuracy_score(cat_labels, cat_preds))\n",
    "    \n",
    "    val_losses.append(epoch_val_loss)\n",
    "    val_accuracy.append(np.mean(epoch_val_accuracies))\n",
    "\n"
   ]
  },
  {
   "cell_type": "code",
   "execution_count": 180,
   "id": "739eb124",
   "metadata": {},
   "outputs": [
    {
     "data": {
      "image/png": "[encoded data removed]",
      "text/plain": [
       "<Figure size 432x288 with 1 Axes>"
      ]
     },
     "metadata": {
      "needs_background": "light"
     },
     "output_type": "display_data"
    },
    {
     "data": {
      "image/png": "[encoded data removed]",
      "text/plain": [
       "<Figure size 432x288 with 1 Axes>"
      ]
     },
     "metadata": {
      "needs_background": "light"
     },
     "output_type": "display_data"
    }
   ],
   "source": [
    "import matplotlib.pyplot as plt\n",
    "\n",
    "plt.plot(list(range(len(losses))), losses, label = 'Training')\n",
    "plt.plot(list(range(len(losses))), val_losses, label = 'Validation')\n",
    "plt.title('Loss')\n",
    "plt.legend()\n",
    "plt.show()\n",
    "\n",
    "plt.plot(list(range(len(accuracy))), accuracy, label = 'Training')\n",
    "plt.plot(list(range(len(accuracy))), val_accuracy, label = 'Validation')\n",
    "\n",
    "plt.title('Accuracy')\n",
    "plt.legend()\n",
    "plt.show()"
   ]
  },
  {
   "cell_type": "code",
   "execution_count": 181,
   "id": "f9811761",
   "metadata": {},
   "outputs": [
    {
     "name": "stdout",
     "output_type": "stream",
     "text": [
      "Test loss :  0.00015247499686665833\n",
      "Test accuracy :  1.0\n"
     ]
    }
   ],
   "source": [
    "# test accuracy : \n",
    "\n",
    "for data in batcher(X_test, y_test, batch_size=y_test.shape[0]) :\n",
    "    inputs, labels = data\n",
    "    outputs = model(inputs)\n",
    "\n",
    "    # test loss\n",
    "    loss = criterion(outputs, labels)\n",
    "\n",
    "    # test accuracy\n",
    "    cat_preds = make_categorical(outputs)\n",
    "    cat_labels = make_categorical(labels)\n",
    "    accuracy = accuracy_score(cat_labels, cat_preds)\n",
    "\n",
    "print('Test loss : ', loss.item())\n",
    "print('Test accuracy : ', accuracy)"
   ]
  }
 ],
 "metadata": {
  "kernelspec": {
   "display_name": "Python 3",
   "language": "python",
   "name": "python3"
  },
  "language_info": {
   "codemirror_mode": {
    "name": "ipython",
    "version": 3
   },
   "file_extension": ".py",
   "mimetype": "text/x-python",
   "name": "python",
   "nbconvert_exporter": "python",
   "pygments_lexer": "ipython3",
   "version": "3.8.12"
  }
 },
 "nbformat": 4,
 "nbformat_minor": 5
}
