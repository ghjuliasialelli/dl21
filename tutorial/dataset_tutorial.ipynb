{
 "cells": [
  {
   "cell_type": "markdown",
   "metadata": {
    "collapsed": true,
    "pycharm": {
     "name": "#%% md\n"
    }
   },
   "source": [
    "# Tutorial For Usage of Datasets\n",
    "\n",
    "This Notebook contains information on the usage of the usage of the datasets implemented in ./utils/model_operations.py"
   ]
  },
  {
   "cell_type": "markdown",
   "source": [
    "## ModelDataset\n",
    "\n",
    "This dataset takes a bias value and data-path. When iterating over the dataset, it returns the whole model, but no label (bias value)!"
   ],
   "metadata": {
    "collapsed": false,
    "pycharm": {
     "name": "#%% md\n"
    }
   }
  },
  {
   "cell_type": "code",
   "execution_count": null,
   "outputs": [],
   "source": [
    "# Usage:\n",
    "from utils.model_operations import ModelDataset"
   ],
   "metadata": {
    "collapsed": false,
    "pycharm": {
     "name": "#%%\n"
    }
   }
  },
  {
   "cell_type": "markdown",
   "source": [
    "## PhilipsModelDataset\n",
    "\n",
    "This dataset inherits from the ModelDataset, so that it can re-cycle the model-loading operations.\n",
    "\n",
    "It takes the same inputs as the ModelDataset, however it discards the bias-value, so that it loads data from **all bias subsets**. Iterating over PhilipsModelDataset will return a dictionary with keys ['model_weights', 'bias'], where 'bias' is the label of the model.\n",
    "\n",
    "By setting num_classes in its init-function, we can use the dataset when labelling \"biased/unbiased\" (num_classes = 2) and for labelling with [0.02, 0.03, 0.04, 0.05]. The bias is encoded in a one-hot vector ([0, 0, 0, 1] for bias 0.5)."
   ],
   "metadata": {
    "collapsed": false,
    "pycharm": {
     "name": "#%% md\n"
    }
   }
  },
  {
   "cell_type": "code",
   "execution_count": null,
   "outputs": [],
   "source": [
    "# Usage:\n",
    "from utils.model_operations import PhilipsModelDataset"
   ],
   "metadata": {
    "collapsed": false,
    "pycharm": {
     "name": "#%%\n"
    }
   }
  }
 ],
 "metadata": {
  "kernelspec": {
   "display_name": "Python 3",
   "language": "python",
   "name": "python3"
  },
  "language_info": {
   "codemirror_mode": {
    "name": "ipython",
    "version": 2
   },
   "file_extension": ".py",
   "mimetype": "text/x-python",
   "name": "python",
   "nbconvert_exporter": "python",
   "pygments_lexer": "ipython2",
   "version": "2.7.6"
  }
 },
 "nbformat": 4,
 "nbformat_minor": 0
}